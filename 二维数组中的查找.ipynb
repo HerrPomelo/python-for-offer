{
 "cells": [
  {
   "cell_type": "code",
   "execution_count": 2,
   "metadata": {
    "collapsed": true
   },
   "outputs": [],
   "source": [
    "#从右上角开始找起\n",
    "# -*- coding:utf-8 -*-\n",
    "class Solution:\n",
    "    # array 二维列表\n",
    "    def Find(self, target, array):\n",
    "        # write code here\n",
    "        h=0#len（array）行数\n",
    "        l=len(array[0])-1#列数减一\n",
    "        if array==None:\n",
    "            return False\n",
    "        while l<=len(array[0])-1 and h>=0:\n",
    "            if array[h][l]==target:\n",
    "                return True\n",
    "            elif array[h][l]>target:\n",
    "                l=l-1\n",
    "            else:\n",
    "                h=h+1\n",
    "        return False\n",
    "#您的代码已保存\n",
    "#答案错误:您提交的程序没有通过所有的测试用例\n",
    "#case通过率为11.76%\n",
    "\n",
    "#测试用例:\n",
    "#5,[[1,2,8,9],[2,4,9,12],[4,7,10,13],[6,8,11,15]]\n",
    "\n",
    "#对应输出应该为:\n",
    "\n",
    "#false\n",
    "\n",
    "#你的输出为:\n",
    "\n",
    "#list index out of range"
   ]
  },
  {
   "cell_type": "code",
   "execution_count": 3,
   "metadata": {
    "collapsed": true
   },
   "outputs": [],
   "source": [
    "#从头找起\n",
    "# -*- coding:utf-8 -*-\n",
    "class Solution:\n",
    "    # array 二维列表\n",
    "    def Find(self, target, array):\n",
    "        # write code here\n",
    "        h=len(array)\n",
    "        l=len(array[0])\n",
    "        if array==None:\n",
    "            return False\n",
    "        for i in range(h):\n",
    "            for j in range(l):\n",
    "                if array[i][j]==target:\n",
    "                    return True\n"
   ]
  },
  {
   "cell_type": "code",
   "execution_count": null,
   "metadata": {
    "collapsed": true
   },
   "outputs": [],
   "source": []
  }
 ],
 "metadata": {
  "kernelspec": {
   "display_name": "Python 3",
   "language": "python",
   "name": "python3"
  },
  "language_info": {
   "codemirror_mode": {
    "name": "ipython",
    "version": 3
   },
   "file_extension": ".py",
   "mimetype": "text/x-python",
   "name": "python",
   "nbconvert_exporter": "python",
   "pygments_lexer": "ipython3",
   "version": "3.6.1"
  }
 },
 "nbformat": 4,
 "nbformat_minor": 2
}
