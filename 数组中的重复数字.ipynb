{
 "cells": [
  {
   "cell_type": "code",
   "execution_count": 5,
   "metadata": {
    "collapsed": true
   },
   "outputs": [],
   "source": [
    "#剑指offer思路\n",
    "# -*- coding:utf-8 -*-\n",
    "class Solution:\n",
    "    # 这里要特别注意~找到任意重复的一个值并赋值到duplication[0]\n",
    "    # 函数返回True/False\n",
    "    def duplicate(self, numbers, duplication):\n",
    "        # write code here\n",
    "        i=0\n",
    "        if len(numbers)<=1:\n",
    "            return False\n",
    "\n",
    "        for i in range(len(numbers)):\n",
    "            while(numbers[i]!=i):\n",
    "                if numbers[i]==numbers[numbers[i]]:\n",
    "                    duplication[0]=nubmers[i]\n",
    "                    return True\n",
    "                numbers[i],numbers[numbers[i]]=numbers[numbers[i]],numbers[i]\n",
    "        return False"
   ]
  },
  {
   "cell_type": "code",
   "execution_count": 6,
   "metadata": {
    "collapsed": true
   },
   "outputs": [],
   "source": [
    "#使用字典思路\n",
    "# -*- coding:utf-8 -*-\n",
    "class Solution:\n",
    "    # 这里要特别注意~找到任意重复的一个值并赋值到duplication[0]\n",
    "    # 函数返回True/False\n",
    "    def duplicate(self, numbers, duplication):\n",
    "        # write code here\n",
    "        dict={}\n",
    "        if len(numbers)<=1:\n",
    "            return False\n",
    "        for i in range(numbers):\n",
    "            if numbers[i] in dict:\n",
    "                duplication[0]=numbers[i]\n",
    "                return True\n",
    "            else:\n",
    "                numbers.append(i)\n",
    "        return false\n"
   ]
  },
  {
   "cell_type": "code",
   "execution_count": null,
   "metadata": {
    "collapsed": true
   },
   "outputs": [],
   "source": []
  }
 ],
 "metadata": {
  "kernelspec": {
   "display_name": "Python 3",
   "language": "python",
   "name": "python3"
  },
  "language_info": {
   "codemirror_mode": {
    "name": "ipython",
    "version": 3
   },
   "file_extension": ".py",
   "mimetype": "text/x-python",
   "name": "python",
   "nbconvert_exporter": "python",
   "pygments_lexer": "ipython3",
   "version": "3.6.1"
  }
 },
 "nbformat": 4,
 "nbformat_minor": 2
}
