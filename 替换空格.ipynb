{
 "cells": [
  {
   "cell_type": "code",
   "execution_count": 2,
   "metadata": {
    "collapsed": true
   },
   "outputs": [],
   "source": [
    "#使用直接替换\n",
    "class Solution:\n",
    "    # s 源字符串\n",
    "    def replaceSpace(self, s):\n",
    "        # write code here\n",
    "        result=[]\n",
    "        for i in s:\n",
    "            if i==\" \":\n",
    "                result.append(\"%20\")\n",
    "            else:\n",
    "                result.append(i)\n",
    "        return ''.join(result)"
   ]
  },
  {
   "cell_type": "code",
   "execution_count": 3,
   "metadata": {
    "collapsed": true
   },
   "outputs": [],
   "source": [
    "# -*- coding:utf-8 -*-\n",
    "class Solution:\n",
    "    # s 源字符串\n",
    "    def replaceSpace(self, s):\n",
    "        # write code here\n",
    "        return s.replace(' ', '%20')\n"
   ]
  },
  {
   "cell_type": "code",
   "execution_count": null,
   "metadata": {
    "collapsed": true
   },
   "outputs": [],
   "source": [
    "#从右往左替换\n",
    "# -*- coding:utf-8 -*-\n",
    "class Solution:\n",
    "    # s 源字符串\n",
    "    def replaceSpace(self, s):\n",
    "        # write code here\n",
    "        num_space=0\n",
    "        for i in s:\n",
    "            if i==\" \":\n",
    "                num_space += 1\n",
    "                \n",
    "        new_length=2*num_space+len(s)\n",
    "        index_origin=len(s)-1\n",
    "        index_new=new_length-1\n",
    "        new_string=[None for i in range(new_length)]\n",
    "        \n",
    "        while index_origin>=0 and index_new>=index_origin:\n",
    "                if s[index_origin] ==' ':\n",
    "                    new_string[index_new]='0'\n",
    "                    index_new-=1\n",
    "                    new_string[index_new]='2'\n",
    "                    index_new-=1\n",
    "                    new_string[index_new]='%'\n",
    "                    index_new-=1\n",
    "                    index_origin-=1\n",
    "                else:\n",
    "                    new_string[index_new]=s[index_origin]\n",
    "                    index_new-=1\n",
    "                    index_origin-=1\n",
    "                \n",
    "        return ''.join(new_string)\n",
    "            "
   ]
  }
 ],
 "metadata": {
  "kernelspec": {
   "display_name": "Python 3",
   "language": "python",
   "name": "python3"
  },
  "language_info": {
   "codemirror_mode": {
    "name": "ipython",
    "version": 3
   },
   "file_extension": ".py",
   "mimetype": "text/x-python",
   "name": "python",
   "nbconvert_exporter": "python",
   "pygments_lexer": "ipython3",
   "version": "3.6.1"
  }
 },
 "nbformat": 4,
 "nbformat_minor": 2
}
